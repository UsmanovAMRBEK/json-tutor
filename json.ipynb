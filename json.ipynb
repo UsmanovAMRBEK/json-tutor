{
 "cells": [
  {
   "cell_type": "code",
   "execution_count": 2,
   "id": "57ba7eed",
   "metadata": {},
   "outputs": [],
   "source": [
    "import json"
   ]
  },
  {
   "cell_type": "code",
   "execution_count": 3,
   "id": "2bbe83fc",
   "metadata": {},
   "outputs": [
    {
     "data": {
      "text/plain": [
       "'[\"foo\", {\"bar\": [\"baz\", null, 1.0, 2]}]'"
      ]
     },
     "execution_count": 3,
     "metadata": {},
     "output_type": "execute_result"
    }
   ],
   "source": [
    "json.dumps(['foo', {'bar': ('baz', None, 1.0, 2)}])"
   ]
  },
  {
   "cell_type": "code",
   "execution_count": 4,
   "id": "89104e19",
   "metadata": {},
   "outputs": [
    {
     "name": "stdout",
     "output_type": "stream",
     "text": [
      "\"\\\"foo\\bar\"\n"
     ]
    }
   ],
   "source": [
    "print(json.dumps(\"\\\"foo\\bar\"))"
   ]
  },
  {
   "cell_type": "code",
   "execution_count": 5,
   "id": "71542eac",
   "metadata": {},
   "outputs": [
    {
     "name": "stdout",
     "output_type": "stream",
     "text": [
      "\"foo\bar\n"
     ]
    }
   ],
   "source": [
    "print(\"\\\"foo\\bar\")"
   ]
  },
  {
   "cell_type": "code",
   "execution_count": 22,
   "id": "36127077",
   "metadata": {},
   "outputs": [
    {
     "name": "stdout",
     "output_type": "stream",
     "text": [
      "\"\\u1234\"\n"
     ]
    }
   ],
   "source": [
    "print(json.dumps('\\u1234'))"
   ]
  },
  {
   "cell_type": "code",
   "execution_count": 7,
   "id": "b6dc6080",
   "metadata": {},
   "outputs": [
    {
     "name": "stdout",
     "output_type": "stream",
     "text": [
      "ሴ\n"
     ]
    }
   ],
   "source": [
    "print('\\u1234')"
   ]
  },
  {
   "cell_type": "code",
   "execution_count": 8,
   "id": "a83f8642",
   "metadata": {},
   "outputs": [
    {
     "name": "stdout",
     "output_type": "stream",
     "text": [
      "e\n"
     ]
    }
   ],
   "source": [
    "print('\\u0065')"
   ]
  },
  {
   "cell_type": "code",
   "execution_count": 9,
   "id": "c69c4ae8",
   "metadata": {},
   "outputs": [
    {
     "name": "stdout",
     "output_type": "stream",
     "text": [
      "A\n"
     ]
    }
   ],
   "source": [
    "print(chr(65))"
   ]
  },
  {
   "cell_type": "code",
   "execution_count": 10,
   "id": "af1810cb",
   "metadata": {},
   "outputs": [
    {
     "name": "stdout",
     "output_type": "stream",
     "text": [
      "65\n"
     ]
    }
   ],
   "source": [
    "print(ord('A'))"
   ]
  },
  {
   "cell_type": "code",
   "execution_count": 11,
   "id": "7b4f99c3",
   "metadata": {},
   "outputs": [
    {
     "name": "stdout",
     "output_type": "stream",
     "text": [
      "\"\\\\\"\n"
     ]
    }
   ],
   "source": [
    "print(json.dumps('\\\\'))"
   ]
  },
  {
   "cell_type": "code",
   "execution_count": 12,
   "id": "932937ef",
   "metadata": {},
   "outputs": [
    {
     "name": "stdout",
     "output_type": "stream",
     "text": [
      "\\\n"
     ]
    }
   ],
   "source": [
    "print('\\\\')"
   ]
  },
  {
   "cell_type": "code",
   "execution_count": 13,
   "id": "a7331867",
   "metadata": {
    "scrolled": true
   },
   "outputs": [
    {
     "ename": "SyntaxError",
     "evalue": "unterminated string literal (detected at line 1) (2779194834.py, line 1)",
     "output_type": "error",
     "traceback": [
      "\u001b[1;36m  Input \u001b[1;32mIn [13]\u001b[1;36m\u001b[0m\n\u001b[1;33m    print('\\\\\\')\u001b[0m\n\u001b[1;37m          ^\u001b[0m\n\u001b[1;31mSyntaxError\u001b[0m\u001b[1;31m:\u001b[0m unterminated string literal (detected at line 1)\n"
     ]
    }
   ],
   "source": [
    "print('\\\\\\')"
   ]
  },
  {
   "cell_type": "code",
   "execution_count": 14,
   "id": "dc9fdc3d",
   "metadata": {},
   "outputs": [
    {
     "name": "stdout",
     "output_type": "stream",
     "text": [
      "{\"a\": 0, \"b\": 0, \"c\": 0}\n"
     ]
    }
   ],
   "source": [
    "print(json.dumps({\"c\": 0, \"b\": 0, \"a\": 0}, sort_keys=True))"
   ]
  },
  {
   "cell_type": "code",
   "execution_count": 20,
   "id": "2a5fe239",
   "metadata": {},
   "outputs": [
    {
     "name": "stdout",
     "output_type": "stream",
     "text": [
      "{\n",
      "          \"4\": 7,\n",
      "          \"6\": 5\n",
      "}\n"
     ]
    }
   ],
   "source": [
    "print(json.dumps({'6': 5, '4': 7}, sort_keys=True, indent=10))"
   ]
  },
  {
   "cell_type": "code",
   "execution_count": 21,
   "id": "3892bdd3",
   "metadata": {},
   "outputs": [
    {
     "data": {
      "text/plain": [
       "['foo', {'bar': ['baz', None, 1.0, 2]}]"
      ]
     },
     "execution_count": 21,
     "metadata": {},
     "output_type": "execute_result"
    }
   ],
   "source": [
    "json.loads('[\"foo\", {\"bar\":[\"baz\", null, 1.0, 2]}]')"
   ]
  },
  {
   "cell_type": "markdown",
   "id": "da706bc6",
   "metadata": {},
   "source": [
    "## dump()"
   ]
  },
  {
   "cell_type": "code",
   "execution_count": 37,
   "id": "b0eec871",
   "metadata": {},
   "outputs": [],
   "source": [
    "file = open('data.json','w')\n",
    "\n",
    "data1 = {'olma':[1,2,3], 'anor':[2,3,4]}\n",
    "json.dump(data1,file)\n",
    "\n",
    "file.close()"
   ]
  },
  {
   "cell_type": "code",
   "execution_count": 38,
   "id": "fc3ee1d4",
   "metadata": {},
   "outputs": [
    {
     "data": {
      "text/plain": [
       "dict"
      ]
     },
     "execution_count": 38,
     "metadata": {},
     "output_type": "execute_result"
    }
   ],
   "source": [
    "type(data1)"
   ]
  },
  {
   "cell_type": "code",
   "execution_count": 39,
   "id": "d43fe860",
   "metadata": {},
   "outputs": [],
   "source": [
    "file = open('data.json', 'r')\n",
    "data2 = json.loads(file.read())\n",
    "file.close()"
   ]
  },
  {
   "cell_type": "code",
   "execution_count": 40,
   "id": "dd2874c0",
   "metadata": {},
   "outputs": [
    {
     "data": {
      "text/plain": [
       "{'olma': [1, 2, 3], 'anor': [2, 3, 4]}"
      ]
     },
     "execution_count": 40,
     "metadata": {},
     "output_type": "execute_result"
    }
   ],
   "source": [
    "data2"
   ]
  },
  {
   "cell_type": "code",
   "execution_count": 41,
   "id": "51fe89ad",
   "metadata": {},
   "outputs": [
    {
     "data": {
      "text/plain": [
       "dict"
      ]
     },
     "execution_count": 41,
     "metadata": {},
     "output_type": "execute_result"
    }
   ],
   "source": [
    "type(data2)"
   ]
  },
  {
   "cell_type": "code",
   "execution_count": 42,
   "id": "137c70ba",
   "metadata": {},
   "outputs": [],
   "source": [
    "file = open('data.json', 'r')\n",
    "data3 = file.read()\n",
    "file.close()"
   ]
  },
  {
   "cell_type": "code",
   "execution_count": 43,
   "id": "beeaaf18",
   "metadata": {},
   "outputs": [
    {
     "data": {
      "text/plain": [
       "'{\"olma\": [1, 2, 3], \"anor\": [2, 3, 4]}'"
      ]
     },
     "execution_count": 43,
     "metadata": {},
     "output_type": "execute_result"
    }
   ],
   "source": [
    "data3"
   ]
  },
  {
   "cell_type": "code",
   "execution_count": 44,
   "id": "ddc54d33",
   "metadata": {},
   "outputs": [
    {
     "data": {
      "text/plain": [
       "str"
      ]
     },
     "execution_count": 44,
     "metadata": {},
     "output_type": "execute_result"
    }
   ],
   "source": [
    "type(data3)"
   ]
  },
  {
   "cell_type": "code",
   "execution_count": 50,
   "id": "ae6ea797",
   "metadata": {},
   "outputs": [],
   "source": [
    "file = open('data.json', 'r')\n",
    "data4 = json.load(file)\n",
    "file.close()"
   ]
  },
  {
   "cell_type": "code",
   "execution_count": 51,
   "id": "c3ab32c2",
   "metadata": {},
   "outputs": [
    {
     "data": {
      "text/plain": [
       "{'olma': [1, 2, 3], 'anor': [2, 3, 4]}"
      ]
     },
     "execution_count": 51,
     "metadata": {},
     "output_type": "execute_result"
    }
   ],
   "source": [
    "data4"
   ]
  },
  {
   "cell_type": "code",
   "execution_count": 52,
   "id": "7908bead",
   "metadata": {},
   "outputs": [
    {
     "data": {
      "text/plain": [
       "dict"
      ]
     },
     "execution_count": 52,
     "metadata": {},
     "output_type": "execute_result"
    }
   ],
   "source": [
    "type(data4)"
   ]
  },
  {
   "cell_type": "code",
   "execution_count": 2,
   "id": "5c8181a0",
   "metadata": {},
   "outputs": [],
   "source": [
    "file = open('amr.json','w')\n",
    "\n",
    "data1 = {'olma':(1,2,3), 'anor':[2,3,4]}\n",
    "json.dump(data1,file)\n",
    "\n",
    "file.close()"
   ]
  },
  {
   "cell_type": "code",
   "execution_count": 5,
   "id": "856a0d54",
   "metadata": {},
   "outputs": [
    {
     "data": {
      "text/plain": [
       "'\"-Infinity\"'"
      ]
     },
     "execution_count": 5,
     "metadata": {},
     "output_type": "execute_result"
    }
   ],
   "source": [
    "json.dumps('-Infinity')"
   ]
  },
  {
   "cell_type": "code",
   "execution_count": 6,
   "id": "9ee76e69",
   "metadata": {},
   "outputs": [
    {
     "data": {
      "text/plain": [
       "'true'"
      ]
     },
     "execution_count": 6,
     "metadata": {},
     "output_type": "execute_result"
    }
   ],
   "source": [
    "json.dumps(True)"
   ]
  },
  {
   "cell_type": "code",
   "execution_count": 7,
   "id": "eca58971",
   "metadata": {},
   "outputs": [
    {
     "data": {
      "text/plain": [
       "'false'"
      ]
     },
     "execution_count": 7,
     "metadata": {},
     "output_type": "execute_result"
    }
   ],
   "source": [
    "json.dumps(False)"
   ]
  },
  {
   "cell_type": "code",
   "execution_count": 8,
   "id": "bdaa3343",
   "metadata": {},
   "outputs": [
    {
     "data": {
      "text/plain": [
       "'null'"
      ]
     },
     "execution_count": 8,
     "metadata": {},
     "output_type": "execute_result"
    }
   ],
   "source": [
    "json.dumps(None)"
   ]
  },
  {
   "cell_type": "code",
   "execution_count": 14,
   "id": "8369ce10",
   "metadata": {},
   "outputs": [
    {
     "data": {
      "text/plain": [
       "'-Infinity'"
      ]
     },
     "execution_count": 14,
     "metadata": {},
     "output_type": "execute_result"
    }
   ],
   "source": [
    "json.dumps(float('-inf'))"
   ]
  },
  {
   "cell_type": "code",
   "execution_count": 15,
   "id": "6a02c431",
   "metadata": {},
   "outputs": [
    {
     "data": {
      "text/plain": [
       "'NaN'"
      ]
     },
     "execution_count": 15,
     "metadata": {},
     "output_type": "execute_result"
    }
   ],
   "source": [
    "json.dumps(float('nan'))"
   ]
  },
  {
   "cell_type": "code",
   "execution_count": 16,
   "id": "c618d2ac",
   "metadata": {},
   "outputs": [
    {
     "data": {
      "text/plain": [
       "{'x': 3}"
      ]
     },
     "execution_count": 16,
     "metadata": {},
     "output_type": "execute_result"
    }
   ],
   "source": [
    "weird_json = '{\"x\": 1, \"x\": 2, \"x\": 3}'\n",
    "json.loads(weird_json)"
   ]
  },
  {
   "cell_type": "code",
   "execution_count": 17,
   "id": "2f59e21a",
   "metadata": {},
   "outputs": [
    {
     "data": {
      "text/plain": [
       "{'a': -1}"
      ]
     },
     "execution_count": 17,
     "metadata": {},
     "output_type": "execute_result"
    }
   ],
   "source": [
    "{'a':1, 'a':2, 'a':-1}"
   ]
  },
  {
   "cell_type": "code",
   "execution_count": null,
   "id": "a6525d70",
   "metadata": {},
   "outputs": [],
   "source": []
  }
 ],
 "metadata": {
  "kernelspec": {
   "display_name": "Python 3.10.7 64-bit",
   "language": "python",
   "name": "python3"
  },
  "language_info": {
   "codemirror_mode": {
    "name": "ipython",
    "version": 3
   },
   "file_extension": ".py",
   "mimetype": "text/x-python",
   "name": "python",
   "nbconvert_exporter": "python",
   "pygments_lexer": "ipython3",
   "version": "3.10.7"
  },
  "vscode": {
   "interpreter": {
    "hash": "d8663b5844ae456f38f04748683a07c7c0b4ea66e9254c2b26b079584060f00c"
   }
  }
 },
 "nbformat": 4,
 "nbformat_minor": 5
}
